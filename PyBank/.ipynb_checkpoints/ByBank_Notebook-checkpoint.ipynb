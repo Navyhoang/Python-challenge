{
 "cells": [
  {
   "cell_type": "code",
   "execution_count": 43,
   "metadata": {},
   "outputs": [],
   "source": [
    "import os\n",
    "import csv"
   ]
  },
  {
   "cell_type": "code",
   "execution_count": 44,
   "metadata": {},
   "outputs": [],
   "source": [
    "#Open reosurces file\n",
    "datafile_csv = os.path.join(\"Resources\", \"budget_data.csv\")"
   ]
  },
  {
   "cell_type": "code",
   "execution_count": 119,
   "metadata": {},
   "outputs": [
    {
     "name": "stdout",
     "output_type": "stream",
     "text": [
      "There are total of 86 months in the list\n",
      "The net profit/ lost is $38,382,578 dollars\n"
     ]
    }
   ],
   "source": [
    "#-------------------------------------------------------------------------\n",
    "# Month count, Net Profit/Loss\n",
    "#-------------------------------------------------------------------------\n",
    "\n",
    "# Create empty lists to hold values in column 1, column 2, and a variable to hold the net profit/loss\n",
    "monthlist = []\n",
    "netlist = []\n",
    "net = 0\n",
    "\n",
    "#open the budget_data.csv file to read\n",
    "with open(datafile_csv, 'r', encoding='utf-8') as csvfile:\n",
    "    csv_reader = csv.reader(csvfile, delimiter=\",\")\n",
    "\n",
    " #skip the header row\n",
    "    csv_header = next(csvfile, None)\n",
    "\n",
    "    #Loop through each row, check if each cell in column 1 is not empty,\n",
    "    for row in csv_reader:\n",
    "        if str(row[0]) != \" \":\n",
    "\n",
    "            #then add all values in column 1 to the monthlist\n",
    "            monthlist.append(row[0])\n",
    "            \n",
    "            # then count number of months in the monthlist\n",
    "            monthcount = len(monthlist)\n",
    "            \n",
    "           #add the values in column 2 to the netlist\n",
    "            netlist.append(int(row[1]))\n",
    "\n",
    "            #then sum all values in the netlist\n",
    "            net = sum(netlist)\n",
    "            \n",
    "            greatest_increase = max(netlist)\n",
    "            greatest_increase_formated = \"${:,}\".format(greatest_increase) \n",
    "            \n",
    "            greatest_decrease = min(netlist)\n",
    "            greatest_decrease_formated = \"${:,}\".format(greatest_decrease) \n",
    "            \n",
    "            #Format numbers to currency and with comma\n",
    "            net_formated = \"${:,}\".format(net)   \n",
    "\n",
    "    print(f\"There are total of {monthcount} months in the list\")\n",
    "    print(f\"The net profit/ lost is {net_formated} dollars\")\n"
   ]
  },
  {
   "cell_type": "code",
   "execution_count": 118,
   "metadata": {},
   "outputs": [],
   "source": [
    "#open the budget_data.csv file to read\n",
    "with open(datafile_csv, 'r', encoding='utf-8') as csvfile:\n",
    "    csv_reader = csv.reader(csvfile, delimiter=\",\")\n",
    "\n",
    " #skip the header row\n",
    "    csv_header = next(csvfile, None)\n",
    "    \n",
    "    greatest_increase_date = \" \"\n",
    "    greatest_decrease_date = \" \"\n",
    "\n",
    "    greatest_increase = max(netlist)\n",
    "    greatest_decrease = min(netlist)\n",
    "\n",
    "    for row in csv_reader:\n",
    "        if row[1] == greatest_increase:\n",
    "            greatest_increase_date = row[0]\n",
    "    \n",
    "\n",
    "        elif row[1] == greatest_decrease:\n",
    "            greatest_decrease_date = row[0]\n"
   ]
  },
  {
   "cell_type": "code",
   "execution_count": 67,
   "metadata": {},
   "outputs": [
    {
     "name": "stdout",
     "output_type": "stream",
     "text": [
      "Average of the list is $446,309.05\n"
     ]
    }
   ],
   "source": [
    "#------------------------------------------------------------------------\n",
    "# Average Profit/Loss\n",
    "#------------------------------------------------------------------------\n",
    "\n",
    "#Use Functions to find Average\n",
    "def Average(netlist): \n",
    "    return sum(netlist) / len(netlist) \n",
    "  \n",
    "# Call the defined function\n",
    "average = Average(netlist) \n",
    "\n",
    "#round average\n",
    "average_rounded = round(average, 2)\n",
    "\n",
    "#average_formated\n",
    "average_formated = \"${:,}\".format(average_rounded)\n",
    "\n",
    "print(f\"Average of the list is {average_formated}\")"
   ]
  },
  {
   "cell_type": "code",
   "execution_count": 130,
   "metadata": {},
   "outputs": [
    {
     "ename": "TypeError",
     "evalue": "\"delimiter\" must be a 1-character string",
     "output_type": "error",
     "traceback": [
      "\u001b[1;31m---------------------------------------------------------------------------\u001b[0m",
      "\u001b[1;31mTypeError\u001b[0m                                 Traceback (most recent call last)",
      "\u001b[1;32m<ipython-input-130-af91c5fde265>\u001b[0m in \u001b[0;36m<module>\u001b[1;34m\u001b[0m\n\u001b[0;32m      3\u001b[0m \u001b[1;33m\u001b[0m\u001b[0m\n\u001b[0;32m      4\u001b[0m \u001b[1;32mwith\u001b[0m \u001b[0mopen\u001b[0m\u001b[1;33m(\u001b[0m\u001b[0mAnalysis_file\u001b[0m\u001b[1;33m,\u001b[0m\u001b[1;34m'w'\u001b[0m\u001b[1;33m,\u001b[0m \u001b[0mnewline\u001b[0m\u001b[1;33m=\u001b[0m\u001b[1;34m\"\"\u001b[0m\u001b[1;33m)\u001b[0m \u001b[1;32mas\u001b[0m \u001b[0moutputfile\u001b[0m\u001b[1;33m:\u001b[0m\u001b[1;33m\u001b[0m\u001b[1;33m\u001b[0m\u001b[0m\n\u001b[1;32m----> 5\u001b[1;33m     \u001b[0mwriter\u001b[0m \u001b[1;33m=\u001b[0m \u001b[0mcsv\u001b[0m\u001b[1;33m.\u001b[0m\u001b[0mwriter\u001b[0m\u001b[1;33m(\u001b[0m\u001b[0moutputfile\u001b[0m\u001b[1;33m,\u001b[0m \u001b[0mdelimiter\u001b[0m\u001b[1;33m=\u001b[0m\u001b[1;34m\"\"\u001b[0m\u001b[1;33m)\u001b[0m\u001b[1;33m\u001b[0m\u001b[1;33m\u001b[0m\u001b[0m\n\u001b[0m\u001b[0;32m      6\u001b[0m \u001b[1;33m\u001b[0m\u001b[0m\n\u001b[0;32m      7\u001b[0m     \u001b[0mwriter\u001b[0m\u001b[1;33m.\u001b[0m\u001b[0mwriterow\u001b[0m\u001b[1;33m(\u001b[0m\u001b[1;34mf\"There are total of {monthcount} months in the list\"\u001b[0m\u001b[1;33m)\u001b[0m\u001b[1;33m\u001b[0m\u001b[1;33m\u001b[0m\u001b[0m\n",
      "\u001b[1;31mTypeError\u001b[0m: \"delimiter\" must be a 1-character string"
     ]
    }
   ],
   "source": [
    "# Open an output file and write results\n",
    "Analysis_file = os.path.join(\"Analysis\",\"Analysis_final.csv\")\n",
    "\n",
    "with open(Analysis_file,'w', newline=\"\") as outputfile:\n",
    "    writer = csv.writer(outputfile, delimiter=\"\")\n",
    "    \n",
    "    writer.writerow(f\"There are total of {monthcount} months in the list\")\n",
    "    writer.writerow(f\"The net profit/ lost is {net_formated} dollars\")\n",
    "    writer.writerow(f\"Average of the list is {average_formated}\")\n"
   ]
  },
  {
   "cell_type": "code",
   "execution_count": null,
   "metadata": {},
   "outputs": [],
   "source": []
  }
 ],
 "metadata": {
  "kernelspec": {
   "display_name": "Python 3",
   "language": "python",
   "name": "python3"
  },
  "language_info": {
   "codemirror_mode": {
    "name": "ipython",
    "version": 3
   },
   "file_extension": ".py",
   "mimetype": "text/x-python",
   "name": "python",
   "nbconvert_exporter": "python",
   "pygments_lexer": "ipython3",
   "version": "3.7.6"
  }
 },
 "nbformat": 4,
 "nbformat_minor": 4
}

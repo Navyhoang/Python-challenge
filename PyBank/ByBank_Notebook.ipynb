{
 "cells": [
  {
   "cell_type": "code",
   "execution_count": 143,
   "metadata": {},
   "outputs": [],
   "source": [
    "import os\n",
    "import csv"
   ]
  },
  {
   "cell_type": "code",
   "execution_count": 144,
   "metadata": {},
   "outputs": [],
   "source": [
    "#Open reosurces file\n",
    "datafile_csv = os.path.join(\"Resources\", \"budget_data.csv\")"
   ]
  },
  {
   "cell_type": "code",
   "execution_count": 145,
   "metadata": {},
   "outputs": [],
   "source": [
    "#-------------------------------------------------------------------------\n",
    "# Month count, Net Profit/Loss\n",
    "#-------------------------------------------------------------------------\n",
    "\n",
    "# Create empty lists to hold values in column 1, column 2, and a variable to hold the net profit/loss\n",
    "monthlist = []\n",
    "netlist = []\n",
    "net = 0\n",
    "\n",
    "#open the budget_data.csv file to read\n",
    "with open(datafile_csv, 'r', encoding='utf-8') as csvfile:\n",
    "    csv_reader = csv.reader(csvfile, delimiter=\",\")\n",
    "\n",
    " #skip the header row\n",
    "    csv_header = next(csvfile, None)\n",
    "\n",
    "    #Loop through each row, check if each cell in column 1 is not empty,\n",
    "    for row in csv_reader:\n",
    "        if str(row[0]) != \" \":\n",
    "\n",
    "            #then add all values in column 1 to the monthlist\n",
    "            monthlist.append(row[0])\n",
    "            \n",
    "            # then count number of months in the monthlist\n",
    "            monthcount = len(monthlist)\n",
    "            \n",
    "           #add the values in column 2 to the netlist\n",
    "            netlist.append(int(row[1]))\n",
    "\n",
    "            #then sum all values in the netlist\n",
    "            net = sum(netlist)\n",
    "                       \n",
    "            #Format numbers to currency\n",
    "            net_formated = \"${:}\".format(net)   \n"
   ]
  },
  {
   "cell_type": "code",
   "execution_count": 146,
   "metadata": {},
   "outputs": [],
   "source": [
    "#open the budget_data.csv file to read\n",
    "with open(datafile_csv, 'r', encoding='utf-8') as csvfile:\n",
    "    csv_reader = csv.reader(csvfile, delimiter=\",\")\n",
    "\n",
    " #skip the header row\n",
    "    csv_header = next(csvfile, None)\n",
    "    \n",
    "    greatest_increase_date = \" \"\n",
    "    greatest_decrease_date = \" \"\n",
    "\n",
    "    greatest_increase = max(netlist)\n",
    "    greatest_increase_formated = \"${:}\".format(greatest_increase) \n",
    "            \n",
    "    greatest_decrease = min(netlist)\n",
    "    greatest_decrease_formated = \"${:}\".format(greatest_decrease) \n",
    "    \n",
    "    for row in csv_reader:\n",
    "        if row[1] == greatest_increase:\n",
    "            greatest_increase_date = row[0]\n",
    "    \n",
    "\n",
    "        elif row[1] == greatest_decrease:\n",
    "            greatest_decrease_date = row[0]\n"
   ]
  },
  {
   "cell_type": "code",
   "execution_count": 147,
   "metadata": {},
   "outputs": [],
   "source": [
    "#------------------------------------------------------------------------\n",
    "# Average Profit/Loss\n",
    "#------------------------------------------------------------------------\n",
    "\n",
    "#Use Functions to find Average\n",
    "def Average(netlist): \n",
    "    return sum(netlist) / len(netlist) \n",
    "  \n",
    "# Call the defined function\n",
    "average = Average(netlist) \n",
    "\n",
    "#round average\n",
    "average_rounded = round(average)\n",
    "\n",
    "#average_formated\n",
    "average_formated = \"${:}\".format(average_rounded)"
   ]
  },
  {
   "cell_type": "code",
   "execution_count": 150,
   "metadata": {},
   "outputs": [],
   "source": [
    "# Open an output file and write results\n",
    "Analysis_file = os.path.join(\"Analysis\",\"Analysis_final.csv\")\n",
    "\n",
    "with open(Analysis_file,'w', newline=\"\") as outputfile:\n",
    "    writer = csv.writer(outputfile, delimiter=\" \")\n",
    "    \n",
    "    writer.writerow(f\"There are total of {monthcount} months in the list\")\n",
    "    writer.writerow(f\"The net profit/ lost is {net_formated}\")\n",
    "    writer.writerow(f\"Average of the list is {average_formated}\")\n",
    "    writer.writerow(f\"The greatest profit is {greatest_increase_formated} and on this date: {greatest_increase_date}\")\n",
    "    writer.writerow(f\"The greatest loss is {greatest_decrease_formated} and on this date: {greatest_decrease_date}\")\n"
   ]
  },
  {
   "cell_type": "code",
   "execution_count": null,
   "metadata": {},
   "outputs": [],
   "source": []
  },
  {
   "cell_type": "code",
   "execution_count": null,
   "metadata": {},
   "outputs": [],
   "source": []
  }
 ],
 "metadata": {
  "kernelspec": {
   "display_name": "Python 3",
   "language": "python",
   "name": "python3"
  },
  "language_info": {
   "codemirror_mode": {
    "name": "ipython",
    "version": 3
   },
   "file_extension": ".py",
   "mimetype": "text/x-python",
   "name": "python",
   "nbconvert_exporter": "python",
   "pygments_lexer": "ipython3",
   "version": "3.7.6"
  }
 },
 "nbformat": 4,
 "nbformat_minor": 4
}

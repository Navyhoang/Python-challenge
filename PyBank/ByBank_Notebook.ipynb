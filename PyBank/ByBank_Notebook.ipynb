{
 "cells": [
  {
   "cell_type": "code",
   "execution_count": 242,
   "metadata": {},
   "outputs": [],
   "source": [
    "import os\n",
    "import csv"
   ]
  },
  {
   "cell_type": "code",
   "execution_count": 243,
   "metadata": {},
   "outputs": [],
   "source": [
    "#Open reosurces file\n",
    "datafile_csv = os.path.join(\"Resources\", \"budget_data.csv\")"
   ]
  },
  {
   "cell_type": "code",
   "execution_count": 244,
   "metadata": {},
   "outputs": [],
   "source": [
    "#-------------------------------------------------------------------------\n",
    "# Month count, Net Profit/Loss\n",
    "# Approach: Append to List then find length and Sum \n",
    "#-------------------------------------------------------------------------\n",
    "\n",
    "# Create empty lists to hold values in column 1, column 2\n",
    "monthlist = []\n",
    "netlist = []\n",
    "\n",
    "# Create empty lists to hold the difference in profit between the current month and previous month\n",
    "net_change_list = []\n",
    "net_change_month = []\n",
    "\n",
    "#Set arbitrary arrays for comparison loop later\n",
    "# greatest_increase = [Date of greatest increase, greatest increase]\n",
    "greatest_increase = [\"\", 0]\n",
    "\n",
    "# greatest_increase = [Date of greatest decrease, greatest decrease]\n",
    "greatest_decrease = [\"\", 10000000000000000000]\n",
    "\n",
    "\n",
    "#open the budget_data.csv file to read\n",
    "with open(datafile_csv, 'r', encoding='utf-8') as csvfile:\n",
    "    csv_reader = csv.reader(csvfile, delimiter=\",\")\n",
    "\n",
    "    #skip the header row\n",
    "    header = next(csv_reader)\n",
    "\n",
    "            \n",
    "    #Loop through each row, check if each cell in column 1 is not empty,\n",
    "    for row in csv_reader:\n",
    "\n",
    "        #then add all values in column 1 to the monthlist\n",
    "        monthlist.append(row[0])\n",
    "            \n",
    "        # then count number of months in the monthlist\n",
    "        monthcount = len(monthlist)\n",
    "            \n",
    "        #add the values in column 2 to the netlist\n",
    "        netlist.append(int(row[1]))\n",
    "\n",
    "        #then sum all values in the netlist\n",
    "        net = sum(netlist)\n",
    "                       \n",
    "        #Format numbers to currency\n",
    "        net_formated = \"${:}\".format(net)   \n",
    "              \n",
    "        "
   ]
  },
  {
   "cell_type": "code",
   "execution_count": 245,
   "metadata": {},
   "outputs": [],
   "source": [
    "#open the budget_data.csv file to read\n",
    "with open(datafile_csv, 'r', encoding='utf-8') as csvfile:\n",
    "    csv_reader = csv.reader(csvfile, delimiter=\",\")\n",
    "\n",
    "    #skip the header row\n",
    "    header = next(csv_reader)\n",
    "    \n",
    "    #Set first row\n",
    "    firstrow = next (csv_reader)\n",
    "    \n",
    "    # Extract the profit value of the first row\n",
    "    previous_net = int(firstrow[1])\n",
    "       \n",
    "    for row in csv_reader:\n",
    "                \n",
    "        # Subtract previous month's profit from the current month's profit\n",
    "        netchange = int(row[1]) - previous_net        \n",
    "               \n",
    "        # Add the netchange of the current month to the net_change_list\n",
    "        net_change_list += [netchange]\n",
    "        \n",
    "        # Add the date of the current month to the net_change_month\n",
    "        net_change_month += [row[0]]\n",
    "    \n",
    "        # Compare each row to the arbitrary arrays adn replace with the larger value and date\n",
    "        if netchange > greatest_increase[1]:\n",
    "            greatest_increase[0] = row[0]\n",
    "            greatest_increase[1] = netchange\n",
    "            \n",
    "        if netchange < greatest_decrease[1]:\n",
    "            greatest_decrease[0] = row[0]\n",
    "            greatest_decrease[1] = netchange\n",
    "            \n",
    "        # Then reset the previous_net to current month\n",
    "        previous_net = int(row[1])\n",
    "        \n",
    "        greatest_increase_formated = \"${:}\".format(greatest_increase[1])\n",
    "        greatest_increase_date = (greatest_increase[0]) \n",
    "            \n",
    "    \n",
    "        greatest_decrease_formated = \"${:}\".format(greatest_decrease[1]) \n",
    "        greatest_decrease_date = (greatest_decrease[0])\n",
    "\n",
    "\n"
   ]
  },
  {
   "cell_type": "code",
   "execution_count": 249,
   "metadata": {},
   "outputs": [],
   "source": [
    "#------------------------------------------------------------------------\n",
    "# Average Net Change\n",
    "# Approach: Use Function \n",
    "#------------------------------------------------------------------------\n",
    "\n",
    "#Use Functions to find Average\n",
    "def Average(netlist): \n",
    "    return sum(net_change_list) / len(net_change_list) \n",
    "  \n",
    "# Call the defined function\n",
    "average = Average(netlist) \n",
    "\n",
    "#round average\n",
    "average_rounded = round(average)\n",
    "\n",
    "#average_formated\n",
    "average_formated = \"${:}\".format(average_rounded)\n"
   ]
  },
  {
   "cell_type": "code",
   "execution_count": null,
   "metadata": {},
   "outputs": [],
   "source": []
  },
  {
   "cell_type": "code",
   "execution_count": 248,
   "metadata": {},
   "outputs": [],
   "source": [
    "# Open an output file and write results\n",
    "Analysis_file = os.path.join(\"Analysis\",\"Analysis_final.csv\")\n",
    "\n",
    "with open(Analysis_file,'w', newline=\"\") as outputfile:\n",
    "    writer = csv.writer(outputfile, delimiter=\" \")\n",
    "    \n",
    "    writer.writerow(f\"There are total of {monthcount} months in the list\")\n",
    "    writer.writerow(f\"Net profit/ lost is {net_formated}\")\n",
    "    writer.writerow(f\"Average net change is {average_formated}\")\n",
    "    writer.writerow(f\"The greatest increase in profit is {greatest_increase_formated} and on this date: {greatest_increase_date}\")\n",
    "    writer.writerow(f\"The greatest loss is {greatest_decrease_formated} and on this date: {greatest_decrease_date}\")\n"
   ]
  },
  {
   "cell_type": "code",
   "execution_count": null,
   "metadata": {},
   "outputs": [],
   "source": []
  },
  {
   "cell_type": "code",
   "execution_count": null,
   "metadata": {},
   "outputs": [],
   "source": []
  },
  {
   "cell_type": "code",
   "execution_count": null,
   "metadata": {},
   "outputs": [],
   "source": []
  }
 ],
 "metadata": {
  "kernelspec": {
   "display_name": "Python 3",
   "language": "python",
   "name": "python3"
  },
  "language_info": {
   "codemirror_mode": {
    "name": "ipython",
    "version": 3
   },
   "file_extension": ".py",
   "mimetype": "text/x-python",
   "name": "python",
   "nbconvert_exporter": "python",
   "pygments_lexer": "ipython3",
   "version": "3.7.6"
  }
 },
 "nbformat": 4,
 "nbformat_minor": 4
}

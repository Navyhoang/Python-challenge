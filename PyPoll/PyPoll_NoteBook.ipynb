{
 "cells": [
  {
   "cell_type": "code",
   "execution_count": 1,
   "metadata": {},
   "outputs": [],
   "source": [
    "import os\n",
    "import csv"
   ]
  },
  {
   "cell_type": "code",
   "execution_count": 2,
   "metadata": {},
   "outputs": [],
   "source": [
    "#Open reosurces file\n",
    "datafile_csv = os.path.join(\"Resources\", \"election_data.csv\")"
   ]
  },
  {
   "cell_type": "code",
   "execution_count": 47,
   "metadata": {},
   "outputs": [
    {
     "name": "stdout",
     "output_type": "stream",
     "text": [
      "Election Results\n",
      "-------------------------------------------\n",
      "Total Votes: 3521001\n",
      "There are total of 4 candidates\n"
     ]
    }
   ],
   "source": [
    "#-------------------------------------------------------------------------\n",
    "# Total number of votes casted\n",
    "# List of unique candidates\n",
    "# Approach: Iterative loop\n",
    "#-------------------------------------------------------------------------\n",
    "\n",
    "#Empty parametersd li\n",
    "total_voters_count = 0\n",
    "Candidates_list = []\n",
    "\n",
    "with open(datafile_csv,'r', encoding='utf-8') as csvfile:\n",
    "    csv_reader = csv.reader(csvfile, delimiter=\",\")\n",
    "    \n",
    "#skip the header row\n",
    "    header = next(csv_reader)\n",
    "\n",
    "    #for row in csv_reader:\n",
    "    for row in csv_reader:\n",
    "        total_voters_count += 1\n",
    "        \n",
    "        #list of candidates\n",
    "        if str(row[2]) not in Candidates_list:\n",
    "            Candidates_list.append(row[2])\n",
    "\n",
    "print(\"Election Results\")\n",
    "print(\"-------------------------------------------\")\n",
    "print(f\"Total Votes: {total_voters_count}\")\n",
    "print(f\"There are total of {len(Candidates_list)} candidates\")\n"
   ]
  },
  {
   "cell_type": "code",
   "execution_count": 48,
   "metadata": {},
   "outputs": [
    {
     "name": "stdout",
     "output_type": "stream",
     "text": [
      "-------------------------------------------\n",
      "{'Khan': 2218231, 'Correy': 0, 'Li': 0, \"O'Tooley\": 0}\n",
      "Khan: 63.0% (2218231)\n",
      "Correy: 0.0% (0)\n",
      "Li: 0.0% (0)\n",
      "O'Tooley: 0.0% (0)\n",
      "-------------------------------------------\n"
     ]
    }
   ],
   "source": [
    "#-------------------------------------------------------------------------\n",
    "# Number of votes each candidate won\n",
    "# Approach: Iterative loop and Dictionary\n",
    "#-------------------------------------------------------------------------\n",
    "\n",
    "# Create a counter\n",
    "voters_count_i = 0 \n",
    "\n",
    "#Create an empty dictionary\n",
    "new_dict = {}\n",
    "\n",
    "#Open source file\n",
    "with open(datafile_csv,'r', encoding='utf-8') as csvfile:\n",
    "    csv_reader = csv.reader(csvfile, delimiter=\",\")\n",
    "    \n",
    "    #Skip header\n",
    "    header = next(csv_reader)\n",
    "\n",
    "    #Loop through each candidate name in the Candidates_list created above\n",
    "    for i in range(len(Candidates_list)):\n",
    "    \n",
    "        candidate_i = Candidates_list[i]\n",
    "        \n",
    "        # Reset counter for the next candidate\n",
    "        voters_count_i = 0\n",
    "        \n",
    "        #Loop through each row, count 1 if name match candidate name in the Candidates_list\n",
    "        for row in csv_reader:\n",
    "\n",
    "            if str(row[2]) == candidate_i:\n",
    "                voters_count_i += 1\n",
    "        \n",
    "        # Once done looping through all rows, add candidate name and vote count to dictionary \n",
    "        new_dict[candidate_i] = voters_count_i\n",
    "                       \n",
    "    \n",
    "print(\"-------------------------------------------\")    \n",
    "print(new_dict)\n",
    "print(f\"{list(new_dict.keys())[0]}: {round(new_dict[list(new_dict.keys())[0]]/total_voters_count*100,4)}% ({new_dict[list(new_dict.keys())[0]]})\")\n",
    "print(f\"{list(new_dict.keys())[1]}: {round(new_dict[list(new_dict.keys())[1]]/total_voters_count*100,4)}% ({new_dict[list(new_dict.keys())[1]]})\")\n",
    "print(f\"{list(new_dict.keys())[2]}: {round(new_dict[list(new_dict.keys())[2]]/total_voters_count*100,4)}% ({new_dict[list(new_dict.keys())[2]]})\")\n",
    "print(f\"{list(new_dict.keys())[3]}: {round(new_dict[list(new_dict.keys())[3]]/total_voters_count*100,4)}% ({new_dict[list(new_dict.keys())[3]]})\")\n",
    "print(\"-------------------------------------------\")"
   ]
  },
  {
   "cell_type": "code",
   "execution_count": 55,
   "metadata": {},
   "outputs": [
    {
     "name": "stdout",
     "output_type": "stream",
     "text": [
      "-------------------------------------------\n",
      "Winner:Khan\n",
      "-------------------------------------------\n"
     ]
    }
   ],
   "source": [
    "#-------------------------------------------------------------------------\n",
    "# The winner of election based on percentage of votes won\n",
    "# Approach: Find largest value in Dictionary and its associated key\n",
    "#-------------------------------------------------------------------------\n",
    "\n",
    "max_key = max(new_dict, key=new_dict.get)\n",
    "\n",
    "print(\"-------------------------------------------\")\n",
    "print(f\"Winner:{max_key}\")\n",
    "print(\"-------------------------------------------\")"
   ]
  },
  {
   "cell_type": "code",
   "execution_count": null,
   "metadata": {},
   "outputs": [],
   "source": [
    "output = "
   ]
  }
 ],
 "metadata": {
  "kernelspec": {
   "display_name": "Python 3",
   "language": "python",
   "name": "python3"
  },
  "language_info": {
   "codemirror_mode": {
    "name": "ipython",
    "version": 3
   },
   "file_extension": ".py",
   "mimetype": "text/x-python",
   "name": "python",
   "nbconvert_exporter": "python",
   "pygments_lexer": "ipython3",
   "version": "3.7.6"
  }
 },
 "nbformat": 4,
 "nbformat_minor": 4
}
